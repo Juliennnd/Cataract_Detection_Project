{
  "nbformat": 4,
  "nbformat_minor": 0,
  "metadata": {
    "colab": {
      "provenance": [],
      "authorship_tag": "ABX9TyPZypWD+FZkKO+2XUs9JdaP",
      "include_colab_link": true
    },
    "kernelspec": {
      "name": "python3",
      "display_name": "Python 3"
    },
    "language_info": {
      "name": "python"
    }
  },
  "cells": [
    {
      "cell_type": "markdown",
      "metadata": {
        "id": "view-in-github",
        "colab_type": "text"
      },
      "source": [
        "<a href=\"https://colab.research.google.com/github/Juliennnd/Cataract_Detection_Project/blob/main/Classification_project.ipynb\" target=\"_parent\"><img src=\"https://colab.research.google.com/assets/colab-badge.svg\" alt=\"Open In Colab\"/></a>"
      ]
    },
    {
      "cell_type": "code",
      "execution_count": 2,
      "metadata": {
        "colab": {
          "base_uri": "https://localhost:8080/"
        },
        "id": "jEdrQAmet7FQ",
        "outputId": "5f48b0b3-8462-41ed-a073-63db6b86e06b"
      },
      "outputs": [
        {
          "output_type": "stream",
          "name": "stdout",
          "text": [
            "Mounted at /content/drive\n",
            "Found 41 images belonging to 2 classes.\n",
            "Found 13 images belonging to 2 classes.\n"
          ]
        },
        {
          "output_type": "stream",
          "name": "stderr",
          "text": [
            "WARNING:absl:`lr` is deprecated in Keras optimizer, please use `learning_rate` or use the legacy optimizer, e.g.,tf.keras.optimizers.legacy.RMSprop.\n",
            "<ipython-input-2-0e3ad6be4af4>:65: UserWarning: `Model.fit_generator` is deprecated and will be removed in a future version. Please use `Model.fit`, which supports generators.\n",
            "  model.fit_generator(\n"
          ]
        },
        {
          "output_type": "stream",
          "name": "stdout",
          "text": [
            "Epoch 1/10\n",
            "2/2 [==============================] - 34s 22s/step - loss: 29.3363 - accuracy: 0.4878 - val_loss: 0.8778 - val_accuracy: 0.5385\n",
            "Epoch 2/10\n",
            "2/2 [==============================] - 23s 7s/step - loss: 0.8290 - accuracy: 0.5610 - val_loss: 1.3266 - val_accuracy: 0.4615\n",
            "Epoch 3/10\n",
            "2/2 [==============================] - 21s 16s/step - loss: 0.8939 - accuracy: 0.5122 - val_loss: 0.7087 - val_accuracy: 0.4615\n",
            "Epoch 4/10\n",
            "2/2 [==============================] - 23s 16s/step - loss: 0.7041 - accuracy: 0.4634 - val_loss: 0.6990 - val_accuracy: 0.4615\n",
            "Epoch 5/10\n",
            "2/2 [==============================] - 22s 15s/step - loss: 0.6913 - accuracy: 0.5122 - val_loss: 0.6928 - val_accuracy: 0.4615\n",
            "Epoch 6/10\n",
            "2/2 [==============================] - 24s 18s/step - loss: 0.6866 - accuracy: 0.5122 - val_loss: 0.6882 - val_accuracy: 0.7692\n",
            "Epoch 7/10\n",
            "2/2 [==============================] - 22s 15s/step - loss: 0.7055 - accuracy: 0.5610 - val_loss: 0.6862 - val_accuracy: 0.7692\n",
            "Epoch 8/10\n",
            "2/2 [==============================] - 22s 6s/step - loss: 0.6876 - accuracy: 0.7317 - val_loss: 0.6871 - val_accuracy: 0.5385\n",
            "Epoch 9/10\n",
            "2/2 [==============================] - 23s 7s/step - loss: 0.6793 - accuracy: 0.5854 - val_loss: 0.6978 - val_accuracy: 0.4615\n",
            "Epoch 10/10\n",
            "2/2 [==============================] - 21s 6s/step - loss: 0.6835 - accuracy: 0.5122 - val_loss: 0.6702 - val_accuracy: 0.5385\n"
          ]
        }
      ],
      "source": [
        "import tensorflow as tf\n",
        "import os\n",
        "import numpy as np\n",
        "from tensorflow.keras.preprocessing.image import ImageDataGenerator\n",
        "from google.colab import drive\n",
        "\n",
        "drive.mount('/content/drive')\n",
        "\n",
        "\n",
        "# Define the path to the folder containing the labeled images\n",
        "train_data_dir ='/content/drive/MyDrive/Dataset_Project/Dataset_Maria/Training_set'\n",
        "validation_data_dir = '/content/drive/MyDrive/Dataset_Project/Dataset_Maria/Testing_set'\n",
        "\n",
        "# Define image parameters\n",
        "img_width, img_height = 500, 500\n",
        "input_shape = (img_width, img_height, 3)\n",
        "\n",
        "# Define batch size and number of epochs\n",
        "batch_size = 32\n",
        "epochs = 10\n",
        "\n",
        "# Define data augmentation\n",
        "train_datagen = ImageDataGenerator(\n",
        "        rescale=1./255,\n",
        "        shear_range=0.2,\n",
        "        zoom_range=0.2,\n",
        "        horizontal_flip=True)\n",
        "\n",
        "validation_datagen = ImageDataGenerator(rescale=1./255)\n",
        "\n",
        "# Define training and validation generators\n",
        "train_generator = train_datagen.flow_from_directory(\n",
        "        train_data_dir,\n",
        "        target_size=(img_width, img_height),\n",
        "        batch_size=batch_size,\n",
        "        class_mode='binary')\n",
        "\n",
        "validation_generator = validation_datagen.flow_from_directory(\n",
        "        validation_data_dir,\n",
        "        target_size=(img_width, img_height),\n",
        "        batch_size=batch_size,\n",
        "        class_mode='binary')\n",
        "\n",
        "# Define the model architecture\n",
        "model = tf.keras.models.Sequential([\n",
        "    tf.keras.layers.Conv2D(32, (3,3), activation='relu', input_shape=input_shape),\n",
        "    tf.keras.layers.MaxPooling2D(2,2),\n",
        "    tf.keras.layers.Conv2D(64, (3,3), activation='relu'),\n",
        "    tf.keras.layers.MaxPooling2D(2,2),\n",
        "    tf.keras.layers.Conv2D(128, (3,3), activation='relu'),\n",
        "    tf.keras.layers.MaxPooling2D(2,2),\n",
        "    tf.keras.layers.Conv2D(128, (3,3), activation='relu'),\n",
        "    tf.keras.layers.MaxPooling2D(2,2),\n",
        "    tf.keras.layers.Flatten(),\n",
        "    tf.keras.layers.Dense(512, activation='relu'),\n",
        "    tf.keras.layers.Dense(1, activation='sigmoid')\n",
        "])\n",
        "\n",
        "# Compile the model\n",
        "model.compile(loss='binary_crossentropy',\n",
        "              optimizer=tf.keras.optimizers.RMSprop(lr=1e-4),\n",
        "              metrics=['accuracy'])\n",
        "\n",
        "# Train the model\n",
        "model.fit_generator(\n",
        "        train_generator,\n",
        "        steps_per_epoch=len(train_generator),\n",
        "        epochs=epochs,\n",
        "        validation_data=validation_generator,\n",
        "        validation_steps=len(validation_generator))\n",
        "\n",
        "# Save the model\n",
        "save_path = '/content/drive/MyDrive/Dataset_Project/CNN_model.h5'\n",
        "model.save(save_path)\n",
        "\n"
      ]
    },
    {
      "cell_type": "code",
      "source": [
        "import numpy as np\n",
        "from tensorflow.keras.preprocessing import image\n",
        "\n",
        "\n",
        "# Load the trained model\n",
        "model = tf.keras.models.load_model('/content/drive/MyDrive/Dataset_Project/CNN_model.h5')\n",
        "\n",
        "# Define the path to the image you want to classify\n",
        "img_path = '/content/drive/MyDrive/Dataset_Project/Application/oeil1.jpg'\n",
        "\n",
        "# Load the image and resize it to match the input size of the model\n",
        "img = image.load_img(img_path, target_size=(500, 500))\n",
        "\n",
        "# Convert the image to a numpy array and normalize its values\n",
        "x = image.img_to_array(img)\n",
        "x = np.expand_dims(x, axis=0)\n",
        "x = x / 255.0\n",
        "\n",
        "# Make a prediction using the model and print the result\n",
        "prediction = model.predict(x)\n",
        "if prediction[0][0] < 0.5:\n",
        "    print('No cataract')\n",
        "else:\n",
        "    print('Cataract')\n"
      ],
      "metadata": {
        "id": "Sdh987L2wImS",
        "colab": {
          "base_uri": "https://localhost:8080/"
        },
        "outputId": "bf599642-a8bb-4930-8329-52e4bc2e314a"
      },
      "execution_count": 6,
      "outputs": [
        {
          "output_type": "stream",
          "name": "stdout",
          "text": [
            "1/1 [==============================] - 0s 186ms/step\n",
            "Cataract\n"
          ]
        }
      ]
    }
  ]
}